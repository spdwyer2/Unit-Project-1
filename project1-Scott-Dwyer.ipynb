{
 "cells": [
  {
   "cell_type": "markdown",
   "metadata": {},
   "source": [
    "# Scott Dwyer: Unit Project 1\n",
    "\n",
    "July 4th, 2015"
   ]
  },
  {
   "cell_type": "markdown",
   "metadata": {},
   "source": [
    "### Read and evaluate the following problem statement: \n",
    "Determine which free-tier customers will covert to paying customers, using demographic data collected at signup (age, gender, location, and profession) and customer useage data (days since last log in, and activity score 1 = active user, 0= inactive user) based on Hooli data from Jan-Apr 2015. \n"
   ]
  },
  {
   "cell_type": "markdown",
   "metadata": {},
   "source": [
    "#### 1. What is the outcome?"
   ]
  },
  {
   "cell_type": "markdown",
   "metadata": {},
   "source": [
    "**Answer**: The outcome is whether a customer stays at the free tier or converts to a paying customer. "
   ]
  },
  {
   "cell_type": "markdown",
   "metadata": {},
   "source": [
    "#### 2. What are the predictors/covariates? "
   ]
  },
  {
   "cell_type": "markdown",
   "metadata": {},
   "source": [
    "**Answer**: The covariates are age, gender, location, profession, days since last log in, and potentially activity score (though I hypothesize that we're only interested in active users. So we may not look at this.)"
   ]
  },
  {
   "cell_type": "markdown",
   "metadata": {},
   "source": [
    "#### 3. What timeframe is this data relevent for?"
   ]
  },
  {
   "cell_type": "markdown",
   "metadata": {},
   "source": [
    "**Answer**: The data is relevant from January 2015 to April 2015.  "
   ]
  },
  {
   "cell_type": "markdown",
   "metadata": {},
   "source": [
    "#### 4. What is the hypothesi?"
   ]
  },
  {
   "cell_type": "markdown",
   "metadata": {},
   "source": [
    "**Answer:** I hypothesize that a customer's willingness to pay is predictable based upon whether they are an active user, their age, their profession, and days since last log-in."
   ]
  },
  {
   "cell_type": "markdown",
   "metadata": {},
   "source": [
    "## Let's get started with our dataset"
   ]
  },
  {
   "cell_type": "markdown",
   "metadata": {},
   "source": [
    "# 1. Create a data dictionary "
   ]
  },
  {
   "cell_type": "markdown",
   "metadata": {},
   "source": [
    "**Answer:**\n",
    "\n",
    "Variable | Description | Type of Variable\n",
    "---| ---| ---\n",
    "admit | 0 = *not admitted*, 1 = *admitted* | categorical\n",
    "gre | The student's GRE score, as an integer, from 220 to 800 | continuous \n",
    "gpa | The student's grade point average (GPA), as a float, from 0.0 to 4.0 | continuous\n",
    "rank | Rank of the student's alma mater, as an int 1 through 4, with 1 as the highest and 4 as the lowest | categorical\n"
   ]
  },
  {
   "cell_type": "markdown",
   "metadata": {},
   "source": [
    "We would like to explore the association between \"admit\" and all other predictors."
   ]
  },
  {
   "cell_type": "markdown",
   "metadata": {},
   "source": [
    "#### 2. What is the outcome of interest?"
   ]
  },
  {
   "cell_type": "markdown",
   "metadata": {},
   "source": [
    "   **Answer:** The outcome of interest is whether a student was admitted."
   ]
  },
  {
   "cell_type": "markdown",
   "metadata": {},
   "source": [
    "#### 3. What are the predictors and vairables you want to control for (covariates)? "
   ]
  },
  {
   "cell_type": "markdown",
   "metadata": {},
   "source": [
    "**Answer:** The predictors are the student's GRE score, their GPA, and the rank of the student's alma mater. "
   ]
  },
  {
   "cell_type": "markdown",
   "metadata": {},
   "source": [
    "#### 4. What timeframe is this data relevent for?"
   ]
  },
  {
   "cell_type": "markdown",
   "metadata": {},
   "source": [
    "**Answer:** Unfortunately, we do not know the timeframe this data is relevant for. "
   ]
  },
  {
   "cell_type": "markdown",
   "metadata": {},
   "source": [
    "#### 4. What is the hypothesis?"
   ]
  },
  {
   "cell_type": "markdown",
   "metadata": {},
   "source": [
    "**Answer:** The hypothesis is that all three predictors (GRE, GPA, and rank) will have predictive power, with GPA being the most powerful predictor. "
   ]
  },
  {
   "cell_type": "markdown",
   "metadata": {},
   "source": [
    "## Problem Statement\n",
    "\n",
    "This project addresses the difficulty of assessing the importance of the various metrics colleges use to determine admittance. By assessing the predictive power of GRE score, GPA, and highschool prestige (\"rank\") via regression, we aim to assign quantitative predictive value to each of these predictors as they pertain to admittance. We will be using 400 observations of data from UCLA to determine regression coefficients for each of our predictors. If we succeed in this analysis, we will be able to predict admittance to UCLA based upon a student's GPA, GRE score, and prestige rank."
   ]
  },
  {
   "cell_type": "markdown",
   "metadata": {},
   "source": [
    "### Exploratory Analysis Plan"
   ]
  },
  {
   "cell_type": "markdown",
   "metadata": {},
   "source": [
    "#### 1. What are the goals of the exploratory analysis? "
   ]
  },
  {
   "cell_type": "markdown",
   "metadata": {
    "collapsed": true
   },
   "source": [
    "**Answer:** The goal of the exploratory analysis will be a fundamental understanding of the outcome as it relates to its features. The exploratory analysis will contain the following:\n",
    "1. We will explore the distribution of outcomes and predictors\n",
    "  1. Are they normal? Are they skewed?\n",
    "2. We will determine basic summary statistics, including\n",
    "  1. mean\n",
    "  2. median\n",
    "  3. mode\n",
    "  4. max/min\n",
    "  5. quartile/inner-quartile range\n",
    "  6. variance\n",
    "  7. standard deviation\n",
    "3. We will understand potential correlations between the outcome and predictors\n",
    "  1. If the correlations are linear, we will explore Pearson product-moment correlations"
   ]
  },
  {
   "cell_type": "markdown",
   "metadata": {},
   "source": [
    "#### 2a. How will we examine for and handle the presence of missing data ?"
   ]
  },
  {
   "cell_type": "markdown",
   "metadata": {},
   "source": [
    "**Answer:** The way we deal with missing data will largely depend on *which* data is missing. If we are missing the outcome of a particular observation, we will likely have to drop it from our data set. If we are missing multiple predictors for a particular observation, we will likely have to drop it from our data set. If we are missing only one row of data, we will impute the missing predictor either with k-nearest neighbor or linear regression and notate our code to ensure the imputation is reproducable. "
   ]
  },
  {
   "cell_type": "markdown",
   "metadata": {},
   "source": [
    "#### 2b. How will we determine the distribution of our data? "
   ]
  },
  {
   "cell_type": "markdown",
   "metadata": {
    "collapsed": true
   },
   "source": [
    "**Answer:** We have multiple tools we can use to determine the distribution of the data. First, we will plot histograms for both the outcome and each of the predictors to determine visually whether the data looks normally distributed or not. Next, we will look at skew for each of those histograms. "
   ]
  },
  {
   "cell_type": "markdown",
   "metadata": {},
   "source": [
    "#### 4b. How will you test for unusually recorded data? "
   ]
  },
  {
   "cell_type": "markdown",
   "metadata": {},
   "source": [
    "**Answer:** We will use the following methods to test for unusually recorded data\n",
    "1. We will use pandas to count and clip predictor values outside of the expected range \n",
    "  1. GPA will be limited to values greater than or equal to zero and less than or equal to 4.0 \n",
    "  2. GRE scores will be limited to values greater than or equal to 240 and less than or equal to 800 \n",
    "  3. Rank values will be limited to scores of 1,2,3, or 4.\n",
    "  4. Admit values will be limited to either 0 for no or 1 for yes\n",
    "2. We will use the below formula to identify observations that look unusual\n",
    "  1. Observations that fall below Quartile 1 - 1.5(Inter-quartile range) or above quartile 3 + 1.5(inter-quartile range)\n",
    "3. We will use Grubb's test to identify observations more/less than 3 standard deviations away from the mean"
   ]
  },
  {
   "cell_type": "markdown",
   "metadata": {},
   "source": [
    "#### 5. What is your exploratory analysis plan?\n",
    "Using the above information, write an exploratory analysis plan that would allow you or a colleague to reproduce your analysis 1 year from now. "
   ]
  },
  {
   "cell_type": "markdown",
   "metadata": {},
   "source": [
    "**Answer:**\n",
    "1. First, for all of our predictors, we will determine basic summary statistics including\n",
    "  1. mean\n",
    "  2. median\n",
    "  3. mode\n",
    "  4. max/min\n",
    "  5. quartile/inner-quartile range\n",
    "  6. variance\n",
    "  7. standard deviation\n",
    "2. Next, for both our predictors and our outcome, we will create and record histograms and quantify their skew, standard deviation, IQR, variance, and curtosis. \n",
    "3. We will clean our data by doing the following\n",
    "  1. We will remove observations with missing data for the outcome (i.e. no \"0\" or \"1\" value)\n",
    "  2. We will remove observations with missing data for multiple predictors\n",
    "  3. We will use pandas to count and clip predictor values outside the expected range (see section 4b)\n",
    "  4. We will use pandas to identify predictor observations that fall below Quartile 1 - 1.5(Inter-quartile range) or above quartile 3 + 1.5(inter-quartile range). We will potentially disregard these observations. \n",
    "  5. We will use pandas to perform Grubb's test to identify predictor observations more/less than 3 standard deviations from the mean. We will potentially discard these observations.\n",
    "4. We will create dummy variables for every predictor with a categorical variable type\n",
    "5. We will use pandas to plot correlations between each predictor vs. the outcome. We will take note of the correlation."
   ]
  },
  {
   "cell_type": "markdown",
   "metadata": {},
   "source": [
    "## Alternative Problem Statement:\n",
    "\n",
    "This project addresses students who, while mantaining good grades at prestigious schools, perform poorly on standardized tests. By assessing the predictive power of GRE score, GPA, and highschool prestige (\"rank\") via regression, we aim to assign quantitative predictive value to each of these predictors as they pertain to admittance. Our goal will be to determine the floor for GRE score for students who maintain a 3.8 or higher at a prestigious school with a rank of 4."
   ]
  }
 ],
 "metadata": {
  "kernelspec": {
   "display_name": "Python 2",
   "language": "python",
   "name": "python2"
  },
  "language_info": {
   "codemirror_mode": {
    "name": "ipython",
    "version": 2
   },
   "file_extension": ".py",
   "mimetype": "text/x-python",
   "name": "python",
   "nbconvert_exporter": "python",
   "pygments_lexer": "ipython2",
   "version": "2.7.11"
  }
 },
 "nbformat": 4,
 "nbformat_minor": 0
}
